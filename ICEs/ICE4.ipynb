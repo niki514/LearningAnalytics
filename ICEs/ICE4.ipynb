{
 "cells": [
  {
   "cell_type": "markdown",
   "metadata": {},
   "source": [
    "# ICE 4: Recommender Systems\n",
    "### Nikita Tejwani\n",
    "### HUDK 4051: Learning Analytics"
   ]
  },
  {
   "cell_type": "code",
   "execution_count": 1,
   "metadata": {},
   "outputs": [],
   "source": [
    "#Import necessary packages\n",
    "import pandas as pd\n",
    "import numpy as np\n",
    "import matplotlib.pyplot as plt\n",
    "import math\n",
    "from sklearn.metrics.pairwise import cosine_similarity\n",
    "\n",
    "#Load datasets\n",
    "interest = pd.read_csv('interest.csv')\n",
    "difficulty = pd.read_csv('difficulty.csv')"
   ]
  },
  {
   "cell_type": "code",
   "execution_count": 2,
   "metadata": {},
   "outputs": [
    {
     "name": "stdout",
     "output_type": "stream",
     "text": [
      "Interest\n",
      "\n",
      "       prediction.interest  nlp.interest  sna.interest  neural.interest  \\\n",
      "count            52.000000     51.000000     52.000000        51.000000   \n",
      "mean              4.326923      4.431373      4.134615         4.490196   \n",
      "std               1.042643      0.781150      1.048413         0.809260   \n",
      "min               1.000000      3.000000      1.000000         3.000000   \n",
      "25%               4.000000      4.000000      3.000000         4.000000   \n",
      "50%               5.000000      5.000000      4.500000         5.000000   \n",
      "75%               5.000000      5.000000      5.000000         5.000000   \n",
      "max               5.000000      5.000000      5.000000         5.000000   \n",
      "\n",
      "       viz.interest  loop.interest  sql.interest  \n",
      "count     52.000000      51.000000     51.000000  \n",
      "mean       4.596154       4.431373      4.431373  \n",
      "std        0.773574       0.781150      0.922061  \n",
      "min        2.000000       3.000000      2.000000  \n",
      "25%        4.750000       4.000000      4.000000  \n",
      "50%        5.000000       5.000000      5.000000  \n",
      "75%        5.000000       5.000000      5.000000  \n",
      "max        5.000000       5.000000      5.000000  \n",
      "\n",
      "Difficulty\n",
      "\n",
      "       prediction.difficulty  nlp.difficulty  sna.difficulty  \\\n",
      "count              52.000000        50.00000       52.000000   \n",
      "mean                3.807692         4.22000        3.769231   \n",
      "std                 0.864064         0.86402        0.899137   \n",
      "min                 2.000000         2.00000        2.000000   \n",
      "25%                 3.000000         4.00000        3.000000   \n",
      "50%                 4.000000         4.00000        4.000000   \n",
      "75%                 5.000000         5.00000        4.250000   \n",
      "max                 5.000000         5.00000        5.000000   \n",
      "\n",
      "       neural.difficulty  viz.difficulty  loop.difficulty  sql.difficulty  \n",
      "count          50.000000       50.000000        50.000000       49.000000  \n",
      "mean            4.400000        4.060000         4.080000        3.693878  \n",
      "std             0.782461        0.818411         0.829064        1.103103  \n",
      "min             2.000000        3.000000         3.000000        1.000000  \n",
      "25%             4.000000        3.000000         3.000000        3.000000  \n",
      "50%             5.000000        4.000000         4.000000        4.000000  \n",
      "75%             5.000000        5.000000         5.000000        5.000000  \n",
      "max             5.000000        5.000000         5.000000        5.000000  \n"
     ]
    }
   ],
   "source": [
    "#Explore the datasets\n",
    "print('Interest\\n')\n",
    "print(interest.describe())\n",
    "\n",
    "print('\\nDifficulty\\n')\n",
    "print(difficulty.describe())"
   ]
  },
  {
   "cell_type": "markdown",
   "metadata": {},
   "source": [
    "### Notable aspects of the datasets\n",
    "\n",
    "* Both include data from 52 students, describing their interest and perceived difficulty in seven topics\n",
    "* There is very little missing data\n",
    "* Range for each variable is 1-5"
   ]
  },
  {
   "cell_type": "code",
   "execution_count": 3,
   "metadata": {},
   "outputs": [
    {
     "data": {
      "text/html": [
       "<div>\n",
       "<style scoped>\n",
       "    .dataframe tbody tr th:only-of-type {\n",
       "        vertical-align: middle;\n",
       "    }\n",
       "\n",
       "    .dataframe tbody tr th {\n",
       "        vertical-align: top;\n",
       "    }\n",
       "\n",
       "    .dataframe thead th {\n",
       "        text-align: right;\n",
       "    }\n",
       "</style>\n",
       "<table border=\"1\" class=\"dataframe\">\n",
       "  <thead>\n",
       "    <tr style=\"text-align: right;\">\n",
       "      <th></th>\n",
       "      <th>difficulty</th>\n",
       "      <th>interest</th>\n",
       "    </tr>\n",
       "  </thead>\n",
       "  <tbody>\n",
       "    <tr>\n",
       "      <th>prediction</th>\n",
       "      <td>3.807692</td>\n",
       "      <td>4.326923</td>\n",
       "    </tr>\n",
       "    <tr>\n",
       "      <th>nlp</th>\n",
       "      <td>4.220000</td>\n",
       "      <td>4.431373</td>\n",
       "    </tr>\n",
       "    <tr>\n",
       "      <th>sna</th>\n",
       "      <td>3.769231</td>\n",
       "      <td>4.134615</td>\n",
       "    </tr>\n",
       "    <tr>\n",
       "      <th>neural</th>\n",
       "      <td>4.400000</td>\n",
       "      <td>4.490196</td>\n",
       "    </tr>\n",
       "    <tr>\n",
       "      <th>viz</th>\n",
       "      <td>4.060000</td>\n",
       "      <td>4.596154</td>\n",
       "    </tr>\n",
       "    <tr>\n",
       "      <th>loop</th>\n",
       "      <td>4.080000</td>\n",
       "      <td>4.431373</td>\n",
       "    </tr>\n",
       "    <tr>\n",
       "      <th>sql</th>\n",
       "      <td>3.693878</td>\n",
       "      <td>4.431373</td>\n",
       "    </tr>\n",
       "  </tbody>\n",
       "</table>\n",
       "</div>"
      ],
      "text/plain": [
       "            difficulty  interest\n",
       "prediction    3.807692  4.326923\n",
       "nlp           4.220000  4.431373\n",
       "sna           3.769231  4.134615\n",
       "neural        4.400000  4.490196\n",
       "viz           4.060000  4.596154\n",
       "loop          4.080000  4.431373\n",
       "sql           3.693878  4.431373"
      ]
     },
     "execution_count": 3,
     "metadata": {},
     "output_type": "execute_result"
    }
   ],
   "source": [
    "#Data wrangling\n",
    "rows = ['prediction', 'nlp', 'sna', 'neural', 'viz', 'loop', 'sql']\n",
    "cols = ['difficulty', 'interest']\n",
    "\n",
    "#rename columns such that column names match for each dataset\n",
    "interest.drop('id', axis = 1, inplace = True)\n",
    "difficulty.drop('id', axis = 1, inplace = True)\n",
    "\n",
    "interest.set_axis(rows, axis = 'columns')\n",
    "difficulty.set_axis(rows, axis = 'columns')\n",
    "\n",
    "#create new dataset, difficulty_interest, which contains mean interest and difficulty for each topic\n",
    "difficulty_interest = pd.DataFrame(index = rows)\n",
    "\n",
    "difficulty_interest['difficulty'] = difficulty.mean().to_numpy()\n",
    "difficulty_interest['interest'] = interest.mean().to_numpy()\n",
    "difficulty_interest"
   ]
  },
  {
   "cell_type": "code",
   "execution_count": 4,
   "metadata": {},
   "outputs": [
    {
     "data": {
      "image/png": "[encoded data removed]",
      "text/plain": [
       "<Figure size 1080x1080 with 1 Axes>"
      ]
     },
     "metadata": {
      "needs_background": "light"
     },
     "output_type": "display_data"
    }
   ],
   "source": [
    "#Plot metadata for difficulty and interest\n",
    "plt.figure(figsize = [15, 15])   \n",
    "plt.scatter(difficulty_interest.difficulty, difficulty_interest.interest)\n",
    "plt.xlim(0, 5)\n",
    "plt.xlabel('difficulty')\n",
    "plt.ylim(0, 5)\n",
    "plt.ylabel('interest')\n",
    "for i, index in enumerate(difficulty_interest.index):\n",
    "    plt.text(difficulty_interest.difficulty[i] + 0.01, difficulty_interest.interest[i] + 0.01, index)\n",
    "plt.show()"
   ]
  },
  {
   "cell_type": "code",
   "execution_count": 5,
   "metadata": {},
   "outputs": [],
   "source": [
    "#use cosine similarity function to determine the degree of similarity between topics\n",
    "cosine_sim = pd.DataFrame(data = cosine_similarity(difficulty_interest), index  = rows, columns = rows)\n",
    "cosine_sim = cosine_sim.apply(lambda x: 1 - x, axis = 1)\n",
    "\n",
    "#use distance similarity function to determine the degree of difficulty between topics\n",
    "#this might be more helpful than cosine similarity since points are close together, \n",
    "#so differences in distance btwn points is maginified with distance similarity\n",
    "distance_sim = pd.DataFrame(data = 0, index = rows, columns = rows)\n",
    "for i in rows:\n",
    "    item = difficulty_interest.loc[i,]\n",
    "    for j in rows:\n",
    "        target = difficulty_interest.loc[j,]\n",
    "        distance_sim.loc[i, j] = round(math.dist(item, target), 2)"
   ]
  },
  {
   "cell_type": "code",
   "execution_count": 6,
   "metadata": {},
   "outputs": [
    {
     "name": "stdout",
     "output_type": "stream",
     "text": [
      "Recommendations based on: prediction\n"
     ]
    },
    {
     "data": {
      "text/plain": [
       "1     viz\n",
       "2     sna\n",
       "3    loop\n",
       "4     sql\n",
       "5     nlp\n",
       "Name: index, dtype: object"
      ]
     },
     "execution_count": 6,
     "metadata": {},
     "output_type": "execute_result"
    }
   ],
   "source": [
    "def get_recommendations(name, sim):\n",
    "    scores = pd.DataFrame(data = sim[name])\n",
    "    scores.sort_values(by = name, inplace = True)\n",
    "    scores.reset_index(inplace = True)\n",
    "    print('Recommendations based on:', name)\n",
    "    return pd.Series(scores['index'].iloc[1:6], index = range(1, 6))\n",
    "    \n",
    "get_recommendations('prediction', cosine_sim)\n"
   ]
  },
  {
   "cell_type": "code",
   "execution_count": 7,
   "metadata": {},
   "outputs": [
    {
     "name": "stdout",
     "output_type": "stream",
     "text": [
      "Recommendations based on: s5\n"
     ]
    },
    {
     "data": {
      "text/plain": [
       "1    s52\n",
       "2    s28\n",
       "3    s29\n",
       "4    s17\n",
       "5    s16\n",
       "Name: index, dtype: object"
      ]
     },
     "execution_count": 7,
     "metadata": {},
     "output_type": "execute_result"
    }
   ],
   "source": [
    "interest = pd.read_csv('interest.csv')\n",
    "interest.set_index('id', inplace = True)\n",
    "interest = interest.dropna()\n",
    "cos_sim = pd.DataFrame(data = cosine_similarity(interest, interest), columns = interest.index.values, index = interest.index.values)\n",
    "cos_sim = cos_sim.apply(lambda x: 1 - x, axis = 1)\n",
    "get_recommendations('s5', cos_sim)"
   ]
  }
 ],
 "metadata": {
  "kernelspec": {
   "display_name": "Python 3",
   "language": "python",
   "name": "python3"
  },
  "language_info": {
   "codemirror_mode": {
    "name": "ipython",
    "version": 3
   },
   "file_extension": ".py",
   "mimetype": "text/x-python",
   "name": "python",
   "nbconvert_exporter": "python",
   "pygments_lexer": "ipython3",
   "version": "3.8.5"
  }
 },
 "nbformat": 4,
 "nbformat_minor": 4
}

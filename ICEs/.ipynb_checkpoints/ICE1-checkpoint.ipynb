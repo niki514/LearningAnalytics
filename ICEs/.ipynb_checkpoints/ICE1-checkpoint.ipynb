{
 "cells": [
  {
   "cell_type": "markdown",
   "metadata": {},
   "source": [
    "# ICE 1: Database Manipulation with MongoDB\n",
    "### Nikita Tejwani\n",
    "### HUDK 4051: Learning Analytics\n",
    "\n",
    "Reference:\n",
    "\n",
    "https://www.w3schools.com/python/python_mongodb_getstarted.asp"
   ]
  },
  {
   "cell_type": "code",
   "execution_count": 1,
   "metadata": {},
   "outputs": [],
   "source": [
    "#Import necessary packagee\n",
    "import pymongo as pm\n",
    "import pandas as pd\n",
    "import numpy as np"
   ]
  },
  {
   "cell_type": "code",
   "execution_count": 2,
   "metadata": {},
   "outputs": [
    {
     "name": "stdout",
     "output_type": "stream",
     "text": [
      "['admin', 'config', 'local']\n",
      "61fbfa36e82002b769e5e413\n",
      "[1, 2]\n"
     ]
    }
   ],
   "source": [
    "#Create the client and the database\n",
    "myclient = pm.MongoClient('mongodb://localhost:27017/')\n",
    "db = myclient['mydatabase']\n",
    "col = db['customers']\n",
    "\n",
    "#The database name should be within the myclient list, but this won't happen until info is entered\n",
    "print(myclient.list_database_names())\n",
    "\n",
    "#Insert a record into the database\n",
    "mydict = {'firstname':'Nikita', 'lastname':'Tejwani'}\n",
    "\n",
    "x = col.insert_one(mydict)\n",
    "\n",
    "#Default id is set if one is not manually defined\n",
    "print(x.inserted_id)\n",
    "\n",
    "#Insert multiple records into the database\n",
    "#Set id within the dictionary\n",
    "mylist = [{'_id':1, 'firstname':'Jane', 'lastname':'Doe'},\n",
    "          {'_id':2, 'firstname':'Smucker', 'lastname':'PeanutButter'}]\n",
    "\n",
    "x = col.insert_many(mylist)\n",
    "\n",
    "print(x.inserted_ids)"
   ]
  },
  {
   "cell_type": "code",
   "execution_count": 3,
   "metadata": {},
   "outputs": [
    {
     "name": "stdout",
     "output_type": "stream",
     "text": [
      "All elements:\n",
      "{'_id': ObjectId('61fbfa36e82002b769e5e413'), 'firstname': 'Nikita', 'lastname': 'Tejwani'}\n",
      "{'_id': 1, 'firstname': 'Jane', 'lastname': 'Doe'}\n",
      "{'_id': 2, 'firstname': 'Smucker', 'lastname': 'PeanutButter'}\n",
      "\n",
      "\n",
      "All elements, no last name:\n",
      "{'_id': ObjectId('61fbfa36e82002b769e5e413'), 'firstname': 'Nikita'}\n",
      "{'_id': 1, 'firstname': 'Jane'}\n",
      "{'_id': 2, 'firstname': 'Smucker'}\n",
      "\n",
      "\n",
      "All elements with firstname Nikita\n",
      "{'_id': ObjectId('61fbfa36e82002b769e5e413'), 'firstname': 'Nikita', 'lastname': 'Tejwani'}\n"
     ]
    }
   ],
   "source": [
    "#find elements\n",
    "print('All elements:')\n",
    "for x in col.find():\n",
    "    print(x)\n",
    "    \n",
    "#return only some fields of each element\n",
    "print('\\n\\nAll elements, no last name:')\n",
    "for x in col.find({}, {'lastname':0}):\n",
    "    print(x)\n",
    "    \n",
    "#return only elements with a specific value in one field\n",
    "print('\\n\\nAll elements with firstname Nikita')\n",
    "for x in col.find({'firstname':'Nikita'}):\n",
    "    print(x)\n"
   ]
  },
  {
   "cell_type": "code",
   "execution_count": 4,
   "metadata": {},
   "outputs": [
    {
     "name": "stdout",
     "output_type": "stream",
     "text": [
      "All elements in ascending order\n",
      "{'_id': 1, 'firstname': 'Jane', 'lastname': 'Doe'}\n",
      "{'_id': ObjectId('61fbfa36e82002b769e5e413'), 'firstname': 'Nikita', 'lastname': 'Tejwani'}\n",
      "{'_id': 2, 'firstname': 'Smucker', 'lastname': 'PeanutButter'}\n",
      "\n",
      "\n",
      "All elements in descending order\n",
      "{'_id': 2, 'firstname': 'Smucker', 'lastname': 'PeanutButter'}\n",
      "{'_id': ObjectId('61fbfa36e82002b769e5e413'), 'firstname': 'Nikita', 'lastname': 'Tejwani'}\n",
      "{'_id': 1, 'firstname': 'Jane', 'lastname': 'Doe'}\n"
     ]
    }
   ],
   "source": [
    "#sort elements by name\n",
    "print('All elements in ascending order')\n",
    "db = col.find().sort('firstname')\n",
    "for x in db:\n",
    "    print(x)\n",
    "    \n",
    "#To sort elements in descending order\n",
    "print('\\n\\nAll elements in descending order')\n",
    "db = col.find().sort('firstname', -1)\n",
    "for x in db:\n",
    "    print(x)"
   ]
  },
  {
   "cell_type": "code",
   "execution_count": 5,
   "metadata": {},
   "outputs": [
    {
     "name": "stdout",
     "output_type": "stream",
     "text": [
      "{'_id': ObjectId('61fbfa36e82002b769e5e413'), 'firstname': 'Nikita', 'lastname': 'Tejwani'}\n",
      "{'_id': 1, 'firstname': 'Jane', 'lastname': 'Doe'}\n",
      "{'_id': 2, 'firstname': 'Smucker', 'lastname': 'Tejwani'}\n"
     ]
    }
   ],
   "source": [
    "#Update one field in an element\n",
    "col.update_one({'lastname':'PeanutButter'}, {\"$set\":{'lastname':'Tejwani'}})\n",
    "for x in col.find():\n",
    "    print(x)"
   ]
  },
  {
   "cell_type": "code",
   "execution_count": 6,
   "metadata": {},
   "outputs": [],
   "source": [
    "#delete one entry\n",
    "col.delete_one({'firstname':'Nikita'})\n",
    "\n",
    "#delete all entries matching some criteria\n",
    "col.delete_many({'firstname':'Nikita'})\n",
    "\n",
    "#delete all entries\n",
    "col.delete_many({})\n",
    "db = col.find()\n",
    "\n",
    "#delete the entire collection\n",
    "col.drop()\n"
   ]
  }
 ],
 "metadata": {
  "kernelspec": {
   "display_name": "Python 3",
   "language": "python",
   "name": "python3"
  },
  "language_info": {
   "codemirror_mode": {
    "name": "ipython",
    "version": 3
   },
   "file_extension": ".py",
   "mimetype": "text/x-python",
   "name": "python",
   "nbconvert_exporter": "python",
   "pygments_lexer": "ipython3",
   "version": "3.8.5"
  }
 },
 "nbformat": 4,
 "nbformat_minor": 4
}

{
 "cells": [
  {
   "cell_type": "markdown",
   "metadata": {},
   "source": [
    "# ICE 5: Missing Data Imputation\n",
    "### Nikita Tejwani\n",
    "### HUDK 4051: Learning Analytics"
   ]
  },
  {
   "cell_type": "code",
   "execution_count": 11,
   "metadata": {},
   "outputs": [],
   "source": [
    "#Import necessary packages\n",
    "import numpy as np\n",
    "import pandas as pd\n",
    "from sklearn import datasets\n",
    "from sklearn.impute import SimpleImputer\n",
    "from sklearn import linear_model\n",
    "from sklearn.impute import KNNImputer\n",
    "import seaborn as sns\n",
    "import matplotlib.pyplot as plt\n",
    "from sklearn.metrics import mean_squared_error"
   ]
  },
  {
   "cell_type": "code",
   "execution_count": 2,
   "metadata": {},
   "outputs": [
    {
     "data": {
      "text/html": [
       "<div>\n",
       "<style scoped>\n",
       "    .dataframe tbody tr th:only-of-type {\n",
       "        vertical-align: middle;\n",
       "    }\n",
       "\n",
       "    .dataframe tbody tr th {\n",
       "        vertical-align: top;\n",
       "    }\n",
       "\n",
       "    .dataframe thead th {\n",
       "        text-align: right;\n",
       "    }\n",
       "</style>\n",
       "<table border=\"1\" class=\"dataframe\">\n",
       "  <thead>\n",
       "    <tr style=\"text-align: right;\">\n",
       "      <th></th>\n",
       "      <th>sepal length (cm)</th>\n",
       "      <th>sepal width (cm)</th>\n",
       "      <th>petal length (cm)</th>\n",
       "      <th>petal width (cm)</th>\n",
       "    </tr>\n",
       "  </thead>\n",
       "  <tbody>\n",
       "    <tr>\n",
       "      <th>0</th>\n",
       "      <td>5.1</td>\n",
       "      <td>3.5</td>\n",
       "      <td>1.4</td>\n",
       "      <td>0.2</td>\n",
       "    </tr>\n",
       "    <tr>\n",
       "      <th>1</th>\n",
       "      <td>4.9</td>\n",
       "      <td>3.0</td>\n",
       "      <td>1.4</td>\n",
       "      <td>0.2</td>\n",
       "    </tr>\n",
       "    <tr>\n",
       "      <th>2</th>\n",
       "      <td>4.7</td>\n",
       "      <td>3.2</td>\n",
       "      <td>1.3</td>\n",
       "      <td>0.2</td>\n",
       "    </tr>\n",
       "    <tr>\n",
       "      <th>3</th>\n",
       "      <td>4.6</td>\n",
       "      <td>3.1</td>\n",
       "      <td>1.5</td>\n",
       "      <td>0.2</td>\n",
       "    </tr>\n",
       "    <tr>\n",
       "      <th>4</th>\n",
       "      <td>5.0</td>\n",
       "      <td>3.6</td>\n",
       "      <td>1.4</td>\n",
       "      <td>0.2</td>\n",
       "    </tr>\n",
       "    <tr>\n",
       "      <th>...</th>\n",
       "      <td>...</td>\n",
       "      <td>...</td>\n",
       "      <td>...</td>\n",
       "      <td>...</td>\n",
       "    </tr>\n",
       "    <tr>\n",
       "      <th>145</th>\n",
       "      <td>6.7</td>\n",
       "      <td>3.0</td>\n",
       "      <td>5.2</td>\n",
       "      <td>2.3</td>\n",
       "    </tr>\n",
       "    <tr>\n",
       "      <th>146</th>\n",
       "      <td>6.3</td>\n",
       "      <td>2.5</td>\n",
       "      <td>5.0</td>\n",
       "      <td>1.9</td>\n",
       "    </tr>\n",
       "    <tr>\n",
       "      <th>147</th>\n",
       "      <td>6.5</td>\n",
       "      <td>3.0</td>\n",
       "      <td>5.2</td>\n",
       "      <td>2.0</td>\n",
       "    </tr>\n",
       "    <tr>\n",
       "      <th>148</th>\n",
       "      <td>6.2</td>\n",
       "      <td>3.4</td>\n",
       "      <td>5.4</td>\n",
       "      <td>2.3</td>\n",
       "    </tr>\n",
       "    <tr>\n",
       "      <th>149</th>\n",
       "      <td>5.9</td>\n",
       "      <td>3.0</td>\n",
       "      <td>5.1</td>\n",
       "      <td>1.8</td>\n",
       "    </tr>\n",
       "  </tbody>\n",
       "</table>\n",
       "<p>150 rows × 4 columns</p>\n",
       "</div>"
      ],
      "text/plain": [
       "     sepal length (cm)  sepal width (cm)  petal length (cm)  petal width (cm)\n",
       "0                  5.1               3.5                1.4               0.2\n",
       "1                  4.9               3.0                1.4               0.2\n",
       "2                  4.7               3.2                1.3               0.2\n",
       "3                  4.6               3.1                1.5               0.2\n",
       "4                  5.0               3.6                1.4               0.2\n",
       "..                 ...               ...                ...               ...\n",
       "145                6.7               3.0                5.2               2.3\n",
       "146                6.3               2.5                5.0               1.9\n",
       "147                6.5               3.0                5.2               2.0\n",
       "148                6.2               3.4                5.4               2.3\n",
       "149                5.9               3.0                5.1               1.8\n",
       "\n",
       "[150 rows x 4 columns]"
      ]
     },
     "execution_count": 2,
     "metadata": {},
     "output_type": "execute_result"
    }
   ],
   "source": [
    "#Load data\n",
    "iris = datasets.load_iris()\n",
    "iris = pd.DataFrame(data = iris.data, columns = iris.feature_names)\n",
    "iris"
   ]
  },
  {
   "cell_type": "code",
   "execution_count": 3,
   "metadata": {},
   "outputs": [],
   "source": [
    "#Simulating missing data\n",
    "missing = 0.3\n",
    "\n",
    "#iris dataset with data missing completely at random (MCAR)\n",
    "#30% of values missing in sepal length column\n",
    "iris_mcar = iris.copy()\n",
    "iris_mcar.loc[iris_mcar.sample(frac = missing).index, 'sepal length (cm)'] = np.nan\n",
    "\n",
    "#iris dataset with data missing at random (MAR)\n",
    "#rows with larger values of sepal width are more likely to be sampled\n",
    "iris_mar = iris.copy()\n",
    "iris_mar.loc[iris_mar.sample(frac = missing, weights = 'sepal width (cm)').index, 'sepal length (cm)'] = np.nan"
   ]
  },
  {
   "cell_type": "code",
   "execution_count": 4,
   "metadata": {},
   "outputs": [
    {
     "name": "stdout",
     "output_type": "stream",
     "text": [
      "     sepal length (cm)  sepal width (cm)  petal length (cm)  petal width (cm)\n",
      "1                  4.9               3.0                1.4               0.2\n",
      "2                  4.7               3.2                1.3               0.2\n",
      "3                  4.6               3.1                1.5               0.2\n",
      "4                  5.0               3.6                1.4               0.2\n",
      "5                  5.4               3.9                1.7               0.4\n",
      "..                 ...               ...                ...               ...\n",
      "144                6.7               3.3                5.7               2.5\n",
      "145                6.7               3.0                5.2               2.3\n",
      "146                6.3               2.5                5.0               1.9\n",
      "148                6.2               3.4                5.4               2.3\n",
      "149                5.9               3.0                5.1               1.8\n",
      "\n",
      "[105 rows x 4 columns]\n",
      "\n",
      "Mean sepal length, MCAR:  5.792380952380954\n",
      "\n",
      "Mean sepal length, MAR:  5.839047619047619\n",
      "\n",
      "Mean sepal length, original:  5.843333333333335\n"
     ]
    }
   ],
   "source": [
    "#Deletion methods\n",
    "\n",
    "#Listwise deletion\n",
    "print(iris_mcar.dropna())\n",
    "\n",
    "#Pairwise deletion\n",
    "print('\\nMean sepal length, MCAR: ', iris_mcar['sepal length (cm)'].mean())\n",
    "print('\\nMean sepal length, MAR: ', iris_mar['sepal length (cm)'].mean())\n",
    "print('\\nMean sepal length, original: ', iris['sepal length (cm)'].mean())"
   ]
  },
  {
   "cell_type": "code",
   "execution_count": 33,
   "metadata": {},
   "outputs": [
    {
     "name": "stdout",
     "output_type": "stream",
     "text": [
      "     sepal length (cm)  sepal width (cm)  petal length (cm)  petal width (cm)\n",
      "0             5.839048               3.5                1.4               0.2\n",
      "1             4.900000               3.0                1.4               0.2\n",
      "2             5.839048               3.2                1.3               0.2\n",
      "3             4.600000               3.1                1.5               0.2\n",
      "4             5.000000               3.6                1.4               0.2\n",
      "..                 ...               ...                ...               ...\n",
      "145           6.700000               3.0                5.2               2.3\n",
      "146           6.300000               2.5                5.0               1.9\n",
      "147           6.500000               3.0                5.2               2.0\n",
      "148           6.200000               3.4                5.4               2.3\n",
      "149           5.839048               3.0                5.1               1.8\n",
      "\n",
      "[150 rows x 4 columns]\n",
      "     sepal length (cm)  sepal width (cm)  petal length (cm)  petal width (cm)\n",
      "0             5.694862               3.5                1.4               0.2\n",
      "1             4.900000               3.0                1.4               0.2\n",
      "2             5.790884               3.2                1.3               0.2\n",
      "3             4.600000               3.1                1.5               0.2\n",
      "4             5.000000               3.6                1.4               0.2\n",
      "..                 ...               ...                ...               ...\n",
      "145           6.700000               3.0                5.2               2.3\n",
      "146           6.300000               2.5                5.0               1.9\n",
      "147           6.500000               3.0                5.2               2.0\n",
      "148           6.200000               3.4                5.4               2.3\n",
      "149           5.854899               3.0                5.1               1.8\n",
      "\n",
      "[150 rows x 4 columns]\n"
     ]
    }
   ],
   "source": [
    "#Imputation Methods\n",
    "\n",
    "#Simple Imputation\n",
    "iris_simple_imp = iris_mar.copy()\n",
    "imp = SimpleImputer(missing_values = np.nan, strategy = 'mean')\n",
    "imp.fit(iris_mar)\n",
    "iris_simple_imp = pd.DataFrame(data = imp.transform(iris_mar), columns = iris.columns)\n",
    "print(iris_simple_imp)\n",
    "\n",
    "#Regression Imputation\n",
    "iris_regression = iris_mar.copy()\n",
    "iris_model = iris_mar.dropna()\n",
    "\n",
    "#model creation\n",
    "model = linear_model.LinearRegression()\n",
    "x = iris_model['sepal width (cm)'].values.reshape(-1, 1)\n",
    "y = iris_model['sepal length (cm)'].values.reshape(-1, 1)\n",
    "model.fit(X = x, y = y)\n",
    "\n",
    "#find and replace null values\n",
    "null_index = iris_regression['sepal length (cm)'].isnull()\n",
    "imp_values = model.predict(iris_regression[null_index]['sepal width (cm)'].values.reshape(-1, 1))\n",
    "iris_regression.loc[iris_regression['sepal length (cm)'].isnull(), 'sepal length (cm)'] = imp_values.reshape(len(imp_values),)\n",
    "print(iris_regression)\n",
    "\n",
    "iris_knn = iris_mar.copy()\n",
    "knn_imputer = KNNImputer(n_neighbors = 2, weights = 'uniform')\n",
    "iris_knn = pd.DataFrame(data = knn_imputer.fit_transform(iris_knn), columns = iris.columns)"
   ]
  },
  {
   "cell_type": "code",
   "execution_count": 34,
   "metadata": {},
   "outputs": [
    {
     "data": {
      "image/png": "[encoded data removed]",
      "text/plain": [
       "<Figure size 432x288 with 1 Axes>"
      ]
     },
     "metadata": {
      "needs_background": "light"
     },
     "output_type": "display_data"
    },
    {
     "name": "stdout",
     "output_type": "stream",
     "text": [
      "Original Mean Squared Error:  0.0\n"
     ]
    },
    {
     "data": {
      "image/png": "[encoded data removed]",
      "text/plain": [
       "<Figure size 432x288 with 1 Axes>"
      ]
     },
     "metadata": {
      "needs_background": "light"
     },
     "output_type": "display_data"
    },
    {
     "data": {
      "image/png": "[encoded data removed]",
      "text/plain": [
       "<Figure size 432x288 with 1 Axes>"
      ]
     },
     "metadata": {
      "needs_background": "light"
     },
     "output_type": "display_data"
    },
    {
     "name": "stdout",
     "output_type": "stream",
     "text": [
      "Simple Imputation Mean Squared Error:  0.21134122448979598\n"
     ]
    },
    {
     "data": {
      "image/png": "[encoded data removed]",
      "text/plain": [
       "<Figure size 432x288 with 1 Axes>"
      ]
     },
     "metadata": {
      "needs_background": "light"
     },
     "output_type": "display_data"
    },
    {
     "name": "stdout",
     "output_type": "stream",
     "text": [
      "Regression Mean Squared Error:  0.21699805801443015\n"
     ]
    },
    {
     "data": {
      "image/png": "[encoded data removed]",
      "text/plain": [
       "<Figure size 432x288 with 1 Axes>"
      ]
     },
     "metadata": {
      "needs_background": "light"
     },
     "output_type": "display_data"
    },
    {
     "name": "stdout",
     "output_type": "stream",
     "text": [
      "KNN Mean Squared Error:  0.04378333333333335\n"
     ]
    }
   ],
   "source": [
    "#evaluate different imputation methods\n",
    "sns.scatterplot(data = iris, x = 'sepal length (cm)', y = 'sepal width (cm)').set(title = 'Original')\n",
    "plt.show()\n",
    "print('Original Mean Squared Error: ', mean_squared_error(iris['sepal length (cm)'], iris['sepal length (cm)']))\n",
    "\n",
    "sns.scatterplot(data = iris_mar, x = 'sepal length (cm)', y = 'sepal width (cm)').set(title = 'MAR')\n",
    "plt.show()\n",
    "\n",
    "sns.scatterplot(data = iris_simple_imp, x = 'sepal length (cm)', y = 'sepal width (cm)').set(title = 'Simple Imputation')\n",
    "plt.show()\n",
    "print('Simple Imputation Mean Squared Error: ', mean_squared_error(iris['sepal length (cm)'], iris_simple_imp['sepal length (cm)']))\n",
    "\n",
    "sns.scatterplot(data = iris_regression, x = 'sepal length (cm)', y = 'sepal width (cm)').set(title = 'Regression Imputation')\n",
    "plt.show()\n",
    "print('Regression Mean Squared Error: ', mean_squared_error(iris['sepal length (cm)'], iris_regression['sepal length (cm)']))\n",
    "\n",
    "sns.scatterplot(data = iris_knn, x = 'sepal length (cm)', y = 'sepal width (cm)').set(title = 'KNN Imputation')\n",
    "plt.show()\n",
    "print('KNN Mean Squared Error: ', mean_squared_error(iris['sepal length (cm)'], iris_knn['sepal length (cm)']))\n"
   ]
  },
  {
   "cell_type": "markdown",
   "metadata": {},
   "source": [
    "Note: KNN imputation resulted in the lowest Mean Squared Error, which shows that it is the best method for retaining the analytical value of the original dataset"
   ]
  }
 ],
 "metadata": {
  "kernelspec": {
   "display_name": "Python 3",
   "language": "python",
   "name": "python3"
  },
  "language_info": {
   "codemirror_mode": {
    "name": "ipython",
    "version": 3
   },
   "file_extension": ".py",
   "mimetype": "text/x-python",
   "name": "python",
   "nbconvert_exporter": "python",
   "pygments_lexer": "ipython3",
   "version": "3.8.5"
  }
 },
 "nbformat": 4,
 "nbformat_minor": 4
}

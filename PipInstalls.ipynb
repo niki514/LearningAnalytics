{
 "cells": [
  {
   "cell_type": "code",
   "execution_count": 2,
   "metadata": {},
   "outputs": [
    {
     "name": "stdout",
     "output_type": "stream",
     "text": [
      "Collecting pymongo\n",
      "  Downloading pymongo-4.0.1-cp38-cp38-win_amd64.whl (354 kB)\n",
      "Installing collected packages: pymongo\n",
      "Successfully installed pymongo-4.0.1\n",
      "Note: you may need to restart the kernel to use updated packages.\n"
     ]
    }
   ],
   "source": [
    "pip install pymongo"
   ]
  },
  {
   "cell_type": "code",
   "execution_count": 3,
   "metadata": {},
   "outputs": [
    {
     "name": "stdout",
     "output_type": "stream",
     "text": [
      "Collecting gensim\n",
      "  Using cached gensim-4.1.2-cp38-cp38-win_amd64.whl (24.0 MB)\n",
      "Collecting Cython==0.29.23\n",
      "  Using cached Cython-0.29.23-cp38-cp38-win_amd64.whl (1.7 MB)\n",
      "Collecting smart-open>=1.8.1Note: you may need to restart the kernel to use updated packages.\n",
      "  Using cached smart_open-5.2.1-py3-none-any.whl (58 kB)\n",
      "\n"
     ]
    },
    {
     "name": "stderr",
     "output_type": "stream",
     "text": [
      "ERROR: Could not install packages due to an EnvironmentError: [Errno 2] No such file or directory: 'c:\\\\users\\\\niki\\\\anaconda3\\\\lib\\\\site-packages\\\\__pycache__\\\\cython.cpython-38.pyc'\n",
      "\n"
     ]
    },
    {
     "name": "stdout",
     "output_type": "stream",
     "text": [
      "Requirement already satisfied: scipy>=0.18.1 in c:\\users\\niki\\anaconda3\\lib\\site-packages (from gensim) (1.5.2)\n",
      "Requirement already satisfied: numpy>=1.17.0 in c:\\users\\niki\\anaconda3\\lib\\site-packages (from gensim) (1.19.2)\n",
      "Installing collected packages: Cython, smart-open, gensim\n",
      "  Attempting uninstall: Cython\n",
      "    Found existing installation: Cython 0.29.21\n",
      "    Uninstalling Cython-0.29.21:\n",
      "Collecting gensim\n",
      "  Downloading gensim-4.1.2-cp38-cp38-win_amd64.whl (24.0 MB)\n",
      "Collecting Cython==0.29.23\n",
      "  Downloading Cython-0.29.23-cp38-cp38-win_amd64.whl (1.7 MB)\n",
      "Collecting smart-open>=1.8.1\n",
      "  Downloading smart_open-5.2.1-py3-none-any.whl (58 kB)\n",
      "Requirement already satisfied: scipy>=0.18.1 in c:\\users\\niki\\anaconda3\\lib\\site-packages (from gensim) (1.5.2)\n",
      "Requirement already satisfied: numpy>=1.17.0 in c:\\users\\niki\\anaconda3\\lib\\site-packages (from gensim) (1.19.2)\n",
      "Installing collected packages: Cython, smart-open, gensim\n",
      "  Attempting uninstall: Cython\n",
      "    Found existing installation: Cython 0.29.21\n",
      "    Uninstalling Cython-0.29.21:\n",
      "      Successfully uninstalled Cython-0.29.21\n",
      "Successfully installed Cython-0.29.23 gensim-4.1.2 smart-open-5.2.1\n"
     ]
    }
   ],
   "source": [
    "pip install gensim"
   ]
  },
  {
   "cell_type": "code",
   "execution_count": 1,
   "metadata": {},
   "outputs": [
    {
     "name": "stdout",
     "output_type": "stream",
     "text": [
      "Collecting Twython\n",
      "  Downloading twython-3.9.1-py3-none-any.whl (33 kB)\n",
      "Collecting requests-oauthlib>=0.4.0\n",
      "  Downloading requests_oauthlib-1.3.1-py2.py3-none-any.whl (23 kB)\n",
      "Requirement already satisfied: requests>=2.1.0 in c:\\users\\niki\\anaconda3\\lib\\site-packages (from Twython) (2.24.0)\n",
      "Collecting oauthlib>=3.0.0\n",
      "  Downloading oauthlib-3.2.0-py3-none-any.whl (151 kB)\n",
      "Requirement already satisfied: idna<3,>=2.5 in c:\\users\\niki\\anaconda3\\lib\\site-packages (from requests>=2.1.0->Twython) (2.10)\n",
      "Requirement already satisfied: certifi>=2017.4.17 in c:\\users\\niki\\anaconda3\\lib\\site-packages (from requests>=2.1.0->Twython) (2020.6.20)\n",
      "Requirement already satisfied: urllib3!=1.25.0,!=1.25.1,<1.26,>=1.21.1 in c:\\users\\niki\\anaconda3\\lib\\site-packages (from requests>=2.1.0->Twython) (1.25.11)\n",
      "Requirement already satisfied: chardet<4,>=3.0.2 in c:\\users\\niki\\anaconda3\\lib\\site-packages (from requests>=2.1.0->Twython) (3.0.4)\n",
      "Installing collected packages: oauthlib, requests-oauthlib, Twython\n",
      "Successfully installed Twython-3.9.1 oauthlib-3.2.0 requests-oauthlib-1.3.1\n",
      "Note: you may need to restart the kernel to use updated packages.\n"
     ]
    }
   ],
   "source": [
    "pip install Twython"
   ]
  },
  {
   "cell_type": "code",
   "execution_count": 1,
   "metadata": {},
   "outputs": [
    {
     "name": "stdout",
     "output_type": "stream",
     "text": [
      "Collecting pyBKT\n",
      "  Downloading pyBKT-1.4.tar.gz (32.7 MB)\n",
      "Requirement already satisfied: numpy in c:\\users\\niki\\anaconda3\\lib\\site-packages (from pyBKT) (1.19.2)\n",
      "Collecting sklearn\n",
      "Note: you may need to restart the kernel to use updated packages.  Downloading sklearn-0.0.tar.gz (1.1 kB)\n",
      "Requirement already satisfied: pandas in c:\\users\\niki\\anaconda3\\lib\\site-packages (from pyBKT) (1.1.3)\n",
      "Requirement already satisfied: requests in c:\\users\\niki\\anaconda3\\lib\\site-packages (from pyBKT) (2.24.0)\n",
      "\n",
      "Requirement already satisfied: scikit-learn in c:\\users\\niki\\anaconda3\\lib\\site-packages (from sklearn->pyBKT) (0.23.2)\n",
      "Requirement already satisfied: pytz>=2017.2 in c:\\users\\niki\\anaconda3\\lib\\site-packages (from pandas->pyBKT) (2020.1)\n",
      "Requirement already satisfied: python-dateutil>=2.7.3 in c:\\users\\niki\\anaconda3\\lib\\site-packages (from pandas->pyBKT) (2.8.1)\n",
      "Requirement already satisfied: urllib3!=1.25.0,!=1.25.1,<1.26,>=1.21.1 in c:\\users\\niki\\anaconda3\\lib\\site-packages (from requests->pyBKT) (1.25.11)\n",
      "Requirement already satisfied: certifi>=2017.4.17 in c:\\users\\niki\\anaconda3\\lib\\site-packages (from requests->pyBKT) (2020.6.20)\n",
      "Requirement already satisfied: chardet<4,>=3.0.2 in c:\\users\\niki\\anaconda3\\lib\\site-packages (from requests->pyBKT) (3.0.4)\n",
      "Requirement already satisfied: idna<3,>=2.5 in c:\\users\\niki\\anaconda3\\lib\\site-packages (from requests->pyBKT) (2.10)\n",
      "Requirement already satisfied: joblib>=0.11 in c:\\users\\niki\\anaconda3\\lib\\site-packages (from scikit-learn->sklearn->pyBKT) (0.17.0)\n",
      "Requirement already satisfied: threadpoolctl>=2.0.0 in c:\\users\\niki\\anaconda3\\lib\\site-packages (from scikit-learn->sklearn->pyBKT) (2.1.0)\n",
      "Requirement already satisfied: scipy>=0.19.1 in c:\\users\\niki\\anaconda3\\lib\\site-packages (from scikit-learn->sklearn->pyBKT) (1.5.2)\n",
      "Requirement already satisfied: six>=1.5 in c:\\users\\niki\\anaconda3\\lib\\site-packages (from python-dateutil>=2.7.3->pandas->pyBKT) (1.12.0)\n",
      "Building wheels for collected packages: pyBKT, sklearn\n",
      "  Building wheel for pyBKT (setup.py): started\n",
      "  Building wheel for pyBKT (setup.py): finished with status 'done'\n",
      "  Created wheel for pyBKT: filename=pyBKT-1.4-py3-none-any.whl size=34398 sha256=2117add4c2720fb3e8119b5560bec5a4b11a0074c0b1008ff0aecb5918234c00\n",
      "  Stored in directory: c:\\users\\niki\\appdata\\local\\pip\\cache\\wheels\\bc\\ae\\42\\9ee776bb5ef74681678fc76c4a92d1ee3ffdd242e7d3529078\n",
      "  Building wheel for sklearn (setup.py): started\n",
      "  Building wheel for sklearn (setup.py): finished with status 'done'\n",
      "  Created wheel for sklearn: filename=sklearn-0.0-py2.py3-none-any.whl size=1321 sha256=020d5b47de69b053e37c8d435032ecc8237989415e15d042f5a8dd7be1b042c9\n",
      "  Stored in directory: c:\\users\\niki\\appdata\\local\\pip\\cache\\wheels\\22\\0b\\40\\fd3f795caaa1fb4c6cb738bc1f56100be1e57da95849bfc897\n",
      "Successfully built pyBKT sklearn\n",
      "Installing collected packages: sklearn, pyBKT\n",
      "Successfully installed pyBKT-1.4 sklearn-0.0\n"
     ]
    }
   ],
   "source": [
    "pip install pyBKT"
   ]
  }
 ],
 "metadata": {
  "kernelspec": {
   "display_name": "Python 3",
   "language": "python",
   "name": "python3"
  },
  "language_info": {
   "codemirror_mode": {
    "name": "ipython",
    "version": 3
   },
   "file_extension": ".py",
   "mimetype": "text/x-python",
   "name": "python",
   "nbconvert_exporter": "python",
   "pygments_lexer": "ipython3",
   "version": "3.8.5"
  }
 },
 "nbformat": 4,
 "nbformat_minor": 4
}
